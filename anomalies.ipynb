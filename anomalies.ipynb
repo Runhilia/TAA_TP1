{
 "cells": [
  {
   "cell_type": "code",
   "execution_count": 14,
   "metadata": {},
   "outputs": [],
   "source": [
    "import numpy as np\n",
    "np.set_printoptions(threshold=10000, suppress=True)\n",
    "import pandas as pd\n",
    "import matplotlib.pyplot as plt"
   ]
  },
  {
   "cell_type": "markdown",
   "metadata": {},
   "source": [
    "# PARTIE 1"
   ]
  },
  {
   "cell_type": "markdown",
   "metadata": {},
   "source": [
    "## Chargement et visualisation des données"
   ]
  },
  {
   "cell_type": "code",
   "execution_count": null,
   "metadata": {},
   "outputs": [],
   "source": [
    "mickey = np.loadtxt('mouse.txt')\n",
    "x1 = mickey[:,0]\n",
    "x2 = mickey[:,1]\n",
    "\n",
    "plt.scatter(x1, x2)\n",
    "plt.xlabel('x1')\n",
    "plt.ylabel('x2')\n",
    "plt.title('Mouse data')\n",
    "plt.show()"
   ]
  },
  {
   "cell_type": "markdown",
   "metadata": {},
   "source": [
    "## Isolation Forest"
   ]
  },
  {
   "cell_type": "code",
   "execution_count": null,
   "metadata": {},
   "outputs": [],
   "source": [
    "from sklearn.ensemble import IsolationForest\n",
    "\n",
    "iforest = IsolationForest(n_estimators=100, max_samples='auto')\n",
    "iforest.fit(mickey)\n",
    "\n",
    "df = pd.DataFrame(mickey)\n",
    "df['scores'] = iforest.decision_function(mickey)\n",
    "# -1 for outliers, 1 for inliers\n",
    "df['anomaly'] = iforest.predict(mickey)\n",
    "df.head(20)"
   ]
  },
  {
   "cell_type": "code",
   "execution_count": null,
   "metadata": {},
   "outputs": [],
   "source": [
    "anomaly = df.loc[df['anomaly'] == -1]\n",
    "anomaly_index = list(anomaly.index)\n",
    "print(len(anomaly))"
   ]
  },
  {
   "cell_type": "markdown",
   "metadata": {},
   "source": [
    "## Local Outlier Factor"
   ]
  },
  {
   "cell_type": "code",
   "execution_count": null,
   "metadata": {},
   "outputs": [],
   "source": [
    "from sklearn.neighbors import LocalOutlierFactor\n",
    "\n",
    "lof = LocalOutlierFactor(n_neighbors=20, contamination=0.1)\n",
    "pred = lof.fit_predict(mickey)\n",
    "\n",
    "# -1 for outliers, 1 for inliers\n",
    "print(pred)\n"
   ]
  },
  {
   "cell_type": "markdown",
   "metadata": {},
   "source": [
    "## Mieux choisir le seuil de contamination"
   ]
  },
  {
   "cell_type": "markdown",
   "metadata": {},
   "source": [
    "### Méthode 1 : Visualisation des anomalies - Isolation Forest"
   ]
  },
  {
   "cell_type": "markdown",
   "metadata": {},
   "source": [
    "Pour cette méthode, nous allons visualiser l'histogramme des scores de l'Isolation Forest. Nous allons ensuite calculer le seuil de contamination optimal."
   ]
  },
  {
   "cell_type": "code",
   "execution_count": null,
   "metadata": {},
   "outputs": [],
   "source": [
    "scrores = df['scores']\n",
    "\n",
    "# récupérer les informations de l'histogramme\n",
    "frequencies, bins = np.histogram(scrores, bins=100)\n",
    "\n",
    "# calculer la pente de chaque barre\n",
    "bin_diff = np.diff(bins)\n",
    "slope = np.diff(frequencies) / bin_diff[:-1]\n",
    "\n",
    "# trouver le seuil\n",
    "threshold_index = np.where(slope < -np.abs(slope).max()*0.09)[0][0]\n",
    "threshold = bins[threshold_index +1]\n",
    "\n",
    "plt.hist(scrores, bins=100)\n",
    "plt.axvline(threshold, color='red', linestyle='--')\n"
   ]
  },
  {
   "cell_type": "code",
   "execution_count": null,
   "metadata": {},
   "outputs": [],
   "source": [
    "nombre_sous_seuil = (df['scores'] < threshold).sum()\n",
    "print(\"Pourcentage d'erreur : \",nombre_sous_seuil*100/len(df), '%')"
   ]
  },
  {
   "cell_type": "markdown",
   "metadata": {},
   "source": [
    "### Méthode 2 : Calculer le seuil avec un Z-score - Local Outlier Factor"
   ]
  },
  {
   "cell_type": "markdown",
   "metadata": {},
   "source": [
    "Pour cette méthode, nous allons calculer le seuil de contamination optimal en utilisant un Z-score."
   ]
  },
  {
   "cell_type": "code",
   "execution_count": null,
   "metadata": {},
   "outputs": [],
   "source": [
    "lof_scores = lof.negative_outlier_factor_\n",
    "# Calcul du seuil avec Z-score\n",
    "threshold = np.mean(lof_scores) - 3 * np.std(lof_scores)\n",
    "\n",
    "print(\"Seuil LOF : \", threshold)\n",
    "nombre_sous_seuil = (lof_scores < threshold).sum()\n",
    "print(\"Pourcentage d'erreur LOF : \",nombre_sous_seuil*100/len(df), '%')"
   ]
  },
  {
   "cell_type": "markdown",
   "metadata": {},
   "source": [
    "## Visualisation des données aberrantes"
   ]
  },
  {
   "cell_type": "code",
   "execution_count": null,
   "metadata": {},
   "outputs": [],
   "source": [
    "iforest = IsolationForest(n_estimators=100, max_samples='auto', contamination=0.036)\n",
    "iforest.fit(mickey)\n",
    "df['scores'] = iforest.decision_function(mickey)\n",
    "df['anomaly'] = iforest.predict(mickey)\n",
    "plt.scatter(x1, x2, c=df['anomaly'], cmap='coolwarm', s=20, edgecolors='k')\n",
    "plt.xlabel('x1')\n",
    "plt.ylabel('x2')\n",
    "plt.title('Anomalies detected by Isolation Forest')\n",
    "plt.show()"
   ]
  },
  {
   "cell_type": "code",
   "execution_count": null,
   "metadata": {},
   "outputs": [],
   "source": [
    "# print les index des anomalies\n",
    "anomaly = df.loc[df['anomaly'] == -1]\n",
    "anomaly_index = list(anomaly.index)\n",
    "print(anomaly_index)"
   ]
  },
  {
   "cell_type": "code",
   "execution_count": null,
   "metadata": {},
   "outputs": [],
   "source": [
    "lof = LocalOutlierFactor(n_neighbors=20, contamination=0.016)\n",
    "pred = lof.fit_predict(mickey)\n",
    "plt.scatter(x1, x2, c=pred, cmap='coolwarm', s=20, edgecolors='k')\n",
    "plt.xlabel('x1')\n",
    "plt.ylabel('x2')\n",
    "plt.title('Anomalies detected by Local Outlier Factor')\n",
    "plt.show()"
   ]
  },
  {
   "cell_type": "code",
   "execution_count": null,
   "metadata": {},
   "outputs": [],
   "source": [
    "# print les index des anomalies\n",
    "anomaly = df.loc[pred == -1]\n",
    "anomaly_index = list(anomaly.index)\n",
    "print(anomaly_index)"
   ]
  },
  {
   "cell_type": "markdown",
   "metadata": {},
   "source": [
    "## Comparaison des méthodes"
   ]
  },
  {
   "cell_type": "markdown",
   "metadata": {},
   "source": [
    "La méthode Isolation Forest avec un seuil de contamination calculé grâce à l'histogramme, permet de détecter toutes les anomalies. Cepedant, elle détecter aussi des points comme étant anormal alors qu'il ne le sont pas. D'un autre côté, la méthode Local Outlier Factor avec Z-scores permet de détecter les anomalies mais ne les trouve pas toutes. Aucune méthode n'est meilleur que l'autre, cela dépend si l'on veut détecter toutes les anomalies ou si l'on veut éviter de faux positifs."
   ]
  },
  {
   "cell_type": "markdown",
   "metadata": {},
   "source": [
    "# PARTIE 2"
   ]
  },
  {
   "cell_type": "markdown",
   "metadata": {},
   "source": [
    "## Préparation des données"
   ]
  },
  {
   "cell_type": "code",
   "execution_count": null,
   "metadata": {},
   "outputs": [],
   "source": [
    "from sklearn.preprocessing import StandardScaler\n",
    "\n",
    "credit_card = pd.read_csv('creditcard.csv')\n",
    "credit_card = credit_card.drop(columns=['Time'])\n",
    "\n",
    "# Normalisation\n",
    "scaler = StandardScaler()\n",
    "credit_card['Amount'] = scaler.fit_transform(credit_card['Amount'].values.reshape(-1,1))\n",
    "\n",
    "credit_card.head()"
   ]
  },
  {
   "cell_type": "markdown",
   "metadata": {},
   "source": [
    "## UnderSampling"
   ]
  },
  {
   "cell_type": "markdown",
   "metadata": {},
   "source": [
    "## OverSampling"
   ]
  },
  {
   "cell_type": "markdown",
   "metadata": {},
   "source": [
    "## Balancing"
   ]
  },
  {
   "cell_type": "markdown",
   "metadata": {},
   "source": [
    "## Isolation Forest"
   ]
  },
  {
   "cell_type": "markdown",
   "metadata": {},
   "source": [
    "## Local Outlier Factor"
   ]
  }
 ],
 "metadata": {
  "kernelspec": {
   "display_name": "Python 3",
   "language": "python",
   "name": "python3"
  },
  "language_info": {
   "codemirror_mode": {
    "name": "ipython",
    "version": 3
   },
   "file_extension": ".py",
   "mimetype": "text/x-python",
   "name": "python",
   "nbconvert_exporter": "python",
   "pygments_lexer": "ipython3",
   "version": "3.9.20"
  }
 },
 "nbformat": 4,
 "nbformat_minor": 2
}
