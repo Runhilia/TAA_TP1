{
 "cells": [
  {
   "cell_type": "code",
   "execution_count": 2,
   "metadata": {},
   "outputs": [],
   "source": [
    "import numpy as np\n",
    "np.set_printoptions(threshold=10000, suppress=True)\n",
    "import pandas as pd\n",
    "import matplotlib.pyplot as plt"
   ]
  },
  {
   "cell_type": "markdown",
   "metadata": {},
   "source": [
    "# Partie 1"
   ]
  },
  {
   "cell_type": "markdown",
   "metadata": {},
   "source": [
    "## Chargement et visualisation des données"
   ]
  },
  {
   "cell_type": "code",
   "execution_count": null,
   "metadata": {},
   "outputs": [],
   "source": [
    "mickey = np.loadtxt('mouse.txt')\n",
    "x1 = mickey[:,0]\n",
    "x2 = mickey[:,1]\n",
    "\n",
    "plt.scatter(x1, x2)\n",
    "plt.xlabel('x1')\n",
    "plt.ylabel('x2')\n",
    "plt.title('Mouse data')\n",
    "plt.show()"
   ]
  },
  {
   "cell_type": "markdown",
   "metadata": {},
   "source": [
    "## Isolation Forest"
   ]
  },
  {
   "cell_type": "code",
   "execution_count": null,
   "metadata": {},
   "outputs": [],
   "source": [
    "from sklearn.ensemble import IsolationForest\n",
    "\n",
    "iforest = IsolationForest(n_estimators=100, max_samples='auto')\n",
    "iforest.fit(mickey)\n",
    "\n",
    "df = pd.DataFrame(mickey)\n",
    "df['scores'] = iforest.decision_function(mickey)\n",
    "# -1 for outliers, 1 for inliers\n",
    "df['anomaly'] = iforest.predict(mickey)\n",
    "df.head(20)"
   ]
  },
  {
   "cell_type": "code",
   "execution_count": null,
   "metadata": {},
   "outputs": [],
   "source": [
    "anomaly = df.loc[df['anomaly'] == -1]\n",
    "anomaly_index = list(anomaly.index)\n",
    "print(len(anomaly))"
   ]
  },
  {
   "cell_type": "markdown",
   "metadata": {},
   "source": [
    "## Local Outlier Factor"
   ]
  },
  {
   "cell_type": "code",
   "execution_count": null,
   "metadata": {},
   "outputs": [],
   "source": [
    "from sklearn.neighbors import LocalOutlierFactor\n",
    "\n",
    "lof = LocalOutlierFactor(n_neighbors=20, contamination=0.1)\n",
    "pred = lof.fit_predict(mickey)\n",
    "\n",
    "# -1 for outliers, 1 for inliers\n",
    "print(pred)\n"
   ]
  },
  {
   "cell_type": "markdown",
   "metadata": {},
   "source": [
    "## Mieux choisir le seuil de contamination"
   ]
  },
  {
   "cell_type": "code",
   "execution_count": null,
   "metadata": {},
   "outputs": [],
   "source": [
    "contamination = [0.01,0.02,0.03,0.04,0.05,0.1,0.2,0.3,0.4,0.5]\n",
    "\n",
    "print('Isolation Forest')\n",
    "for c in contamination:\n",
    "    iforest = IsolationForest(n_estimators=100, max_samples='auto', contamination=c)\n",
    "    iforest.fit(mickey)\n",
    "    df['scores'] = iforest.decision_function(mickey)\n",
    "    df['anomaly'] = iforest.predict(mickey)\n",
    "    anomaly = df.loc[df['anomaly'] == -1]\n",
    "    anomaly_index = list(anomaly.index)\n",
    "    print(len(anomaly))\n",
    "    \n",
    "print('Local Outlier Factor')\n",
    "for c in contamination:\n",
    "    lof = LocalOutlierFactor(n_neighbors=20, contamination=c)\n",
    "    pred = lof.fit_predict(mickey)\n",
    "    print(len([p for p in pred if p == -1]))"
   ]
  },
  {
   "cell_type": "markdown",
   "metadata": {},
   "source": [
    "## Visualisation des données aberrantes"
   ]
  },
  {
   "cell_type": "code",
   "execution_count": null,
   "metadata": {},
   "outputs": [],
   "source": [
    "iforest = IsolationForest(n_estimators=100, max_samples='auto', contamination=0.02)\n",
    "iforest.fit(mickey)\n",
    "df['scores'] = iforest.decision_function(mickey)\n",
    "df['anomaly'] = iforest.predict(mickey)\n",
    "plt.scatter(x1, x2, c=df['anomaly'], cmap='coolwarm', s=20, edgecolors='k')\n",
    "plt.xlabel('x1')\n",
    "plt.ylabel('x2')\n",
    "plt.title('Anomalies detected by Isolation Forest')\n",
    "plt.show()"
   ]
  },
  {
   "cell_type": "code",
   "execution_count": null,
   "metadata": {},
   "outputs": [],
   "source": [
    "lof = LocalOutlierFactor(n_neighbors=20, contamination=0.02)\n",
    "pred = lof.fit_predict(mickey)\n",
    "plt.scatter(x1, x2, c=pred, cmap='coolwarm', s=20, edgecolors='k')\n",
    "plt.xlabel('x1')\n",
    "plt.ylabel('x2')\n",
    "plt.title('Anomalies detected by Local Outlier Factor')\n",
    "plt.show()"
   ]
  },
  {
   "cell_type": "markdown",
   "metadata": {},
   "source": [
    "## Comparaison des méthodes"
   ]
  },
  {
   "cell_type": "markdown",
   "metadata": {},
   "source": [
    "# Partie 2"
   ]
  },
  {
   "cell_type": "markdown",
   "metadata": {},
   "source": [
    "## Préparation du jeu de données"
   ]
  },
  {
   "cell_type": "code",
   "execution_count": null,
   "metadata": {},
   "outputs": [],
   "source": [
    "from sklearn.preprocessing import StandardScaler\n",
    "\n",
    "credit_card = pd.read_csv('creditcard.csv')\n",
    "credit_card = credit_card.drop(columns=['Time'])\n",
    "\n",
    "# Normalisation\n",
    "scaler = StandardScaler()\n",
    "credit_card['Amount'] = scaler.fit_transform(credit_card['Amount'].values.reshape(-1,1))\n",
    "\n",
    "credit_card.head()"
   ]
  },
  {
   "cell_type": "markdown",
   "metadata": {},
   "source": [
    "## Undersampling"
   ]
  },
  {
   "cell_type": "markdown",
   "metadata": {},
   "source": [
    "## Oversampling"
   ]
  },
  {
   "cell_type": "markdown",
   "metadata": {},
   "source": [
    "## Balancing"
   ]
  },
  {
   "cell_type": "markdown",
   "metadata": {},
   "source": [
    "## Isolation Forest"
   ]
  },
  {
   "cell_type": "markdown",
   "metadata": {},
   "source": [
    "## Local Outlier Factor"
   ]
  }
 ],
 "metadata": {
  "kernelspec": {
   "display_name": "Python 3",
   "language": "python",
   "name": "python3"
  },
  "language_info": {
   "codemirror_mode": {
    "name": "ipython",
    "version": 3
   },
   "file_extension": ".py",
   "mimetype": "text/x-python",
   "name": "python",
   "nbconvert_exporter": "python",
   "pygments_lexer": "ipython3",
   "version": "3.9.0"
  }
 },
 "nbformat": 4,
 "nbformat_minor": 2
}
